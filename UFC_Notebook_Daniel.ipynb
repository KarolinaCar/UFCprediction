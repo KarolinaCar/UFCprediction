{
 "cells": [
  {
   "cell_type": "code",
   "execution_count": null,
   "id": "169f322b",
   "metadata": {},
   "outputs": [],
   "source": [
    "import argparse, time, requests, pandas as pd\n",
    "from pathlib import Path\n",
    "from bs4 import BeautifulSoup\n",
    "from tqdm.auto import tqdm   \n",
    "\n",
    "BASE = \"http://ufcstats.com\"              \n",
    "HEAD = {\"User-Agent\": \"Mozilla/5.0\"}       \n",
    "DEFAULT_PAUSE = 0.5                        "
   ]
  },
  {
   "cell_type": "code",
   "execution_count": 26,
   "id": "e058f79c",
   "metadata": {},
   "outputs": [],
   "source": [
    "\n",
    "def event_links():\n",
    "    \"\"\"Return list of all completed UFC event URLs.\"\"\"\n",
    "    url  = f\"{BASE}/statistics/events/completed?page=all\"\n",
    "    html = requests.get(url, headers=HEAD, timeout=30).text\n",
    "    soup = BeautifulSoup(html, \"lxml\")\n",
    "    return [a[\"href\"] for a in soup.select(\"tr.b-statistics__table-row a\")]\n",
    "\n",
    "\n",
    "def fight_links(event_url: str):\n",
    "    \"\"\"Return list of fight-details URLs for a single event page.\"\"\"\n",
    "    html = requests.get(event_url, headers=HEAD, timeout=30).text\n",
    "    soup = BeautifulSoup(html, \"lxml\")\n",
    "    return [a[\"href\"] for a in soup.select(\"a.b-link.b-link_style_black\")\n",
    "            if \"/fight-details/\" in a[\"href\"]]\n",
    "\n",
    "\n",
    "def parse_fight(url: str) -> dict:\n",
    "    \"\"\"Scrape one fight page → dict of columns we need.\"\"\"\n",
    "    s = BeautifulSoup(requests.get(url, headers=HEAD, timeout=30).text, \"lxml\")\n",
    "\n",
    "    title = s.select_one(\"h2.b-content__title\").text.strip().split(\"  \")[0]\n",
    "    fighter_1, fighter_2 = [x.strip() for x in title.split(\" vs \")]\n",
    "\n",
    "    meta = {li.text.split(\":\")[0].strip(): li.text.split(\":\")[1].strip()\n",
    "            for li in s.select(\"li.b-list__box-list-item\")}\n",
    "\n",
    "    win_tag = s.select_one(\n",
    "        \"div.b-fight-details__person:nth-child(1) i.b-fight-details__person-status\"\n",
    "    )\n",
    "    winner = win_tag.text.strip() if win_tag else None\n",
    "\n",
    "    return {\n",
    "        \"fight_id\"    : url.split(\"/\")[-1],\n",
    "        \"event\"       : meta.get(\"Event\"),\n",
    "        \"date\"        : meta.get(\"Date\"),\n",
    "        \"weight_class\": meta.get(\"Weight class\"),\n",
    "        \"fighter_1\"   : fighter_1,\n",
    "        \"fighter_2\"   : fighter_2,\n",
    "        \"winner\"      : winner,\n",
    "        \"method\"      : meta.get(\"Method\"),\n",
    "        \"round\"       : meta.get(\"Round\"),\n",
    "        \"time\"        : meta.get(\"Time\"),\n",
    "    }\n"
   ]
  },
  {
   "cell_type": "code",
   "execution_count": 27,
   "id": "81cc0f4a",
   "metadata": {},
   "outputs": [],
   "source": [
    "def crawl(max_events=None, pause=DEFAULT_PAUSE) -> pd.DataFrame:\n",
    "    events = event_links()[:max_events] if max_events else event_links()\n",
    "    rows   = []\n",
    "    for ev in tqdm(events, desc=\"Events\", unit=\"event\"):\n",
    "        for lk in fight_links(ev):\n",
    "            rows.append(parse_fight(lk))\n",
    "            time.sleep(pause)                    \n",
    "        pd.DataFrame(rows).to_csv(\"data/fights_partial.csv\", index=False)\n",
    "    return pd.DataFrame(rows)"
   ]
  },
  {
   "cell_type": "code",
   "execution_count": null,
   "id": "2f82a65a",
   "metadata": {},
   "outputs": [
    {
     "data": {
      "application/vnd.jupyter.widget-view+json": {
       "model_id": "51010a8c399f431790b66cea3606f3a6",
       "version_major": 2,
       "version_minor": 0
      },
      "text/plain": [
       "Events:   0%|          | 0/731 [00:00<?, ?event/s]"
      ]
     },
     "metadata": {},
     "output_type": "display_data"
    },
    {
     "name": "stdout",
     "output_type": "stream",
     "text": [
      "\n",
      "✅ fights.csv saved with 0 rows\n"
     ]
    }
   ],
   "source": [
    "if __name__ == \"__main__\":\n",
    "    df = crawl()                                    \n",
    "    Path(\"data\").mkdir(exist_ok=True)\n",
    "    df.to_csv(\"data/fights.csv\", index=False)\n",
    "    print(f\"\\n✅ fights.csv saved with {len(df):,} rows\")"
   ]
  }
 ],
 "metadata": {
  "kernelspec": {
   "display_name": "base",
   "language": "python",
   "name": "python3"
  },
  "language_info": {
   "codemirror_mode": {
    "name": "ipython",
    "version": 3
   },
   "file_extension": ".py",
   "mimetype": "text/x-python",
   "name": "python",
   "nbconvert_exporter": "python",
   "pygments_lexer": "ipython3",
   "version": "undefined.undefined.undefined"
  }
 },
 "nbformat": 4,
 "nbformat_minor": 5
}
