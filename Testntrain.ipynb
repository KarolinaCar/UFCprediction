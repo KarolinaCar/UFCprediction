{
 "cells": [
  {
   "cell_type": "code",
   "execution_count": 3,
   "id": "80c73d68-de72-43a8-9c56-60849eef8118",
   "metadata": {},
   "outputs": [
    {
     "name": "stdout",
     "output_type": "stream",
     "text": [
      "Classification Report:\n",
      "              precision    recall  f1-score   support\n",
      "\n",
      "         0.0       0.82      0.86      0.84       291\n",
      "         1.0       0.87      0.83      0.85       327\n",
      "\n",
      "    accuracy                           0.84       618\n",
      "   macro avg       0.84      0.84      0.84       618\n",
      "weighted avg       0.84      0.84      0.84       618\n",
      "\n"
     ]
    }
   ],
   "source": [
    "import pandas as pd\n",
    "import numpy as np\n",
    "from sklearn.model_selection import train_test_split\n",
    "from sklearn.preprocessing import StandardScaler, OneHotEncoder\n",
    "from sklearn.compose import ColumnTransformer\n",
    "from sklearn.pipeline import Pipeline\n",
    "from sklearn.ensemble import RandomForestClassifier\n",
    "from sklearn.metrics import classification_report, f1_score\n",
    "from imblearn.over_sampling import SMOTE\n",
    "from imblearn.pipeline import Pipeline as ImbPipeline\n",
    "import matplotlib.pyplot as plt\n",
    "\n",
    "# Load dataset\n",
    "df = pd.read_csv('df_all_fights.csv')\n",
    "df.columns = df.columns.str.strip()\n",
    "\n",
    "# Define features\n",
    "num_cols = [\n",
    "    'strike_accuracy_diff',\n",
    "    'total_strike_accuracy_diff',\n",
    "    'knockdowns_diff',\n",
    "    'takedown_accuracy_diff',\n",
    "    'takedowns_diff',\n",
    "    'submission_attempts_diff'\n",
    "]\n",
    "cat_cols = ['weight_class', 'method']\n",
    "\n",
    "# Prepare data\n",
    "df_clean = df[num_cols + cat_cols].dropna()\n",
    "X_pos = df_clean.copy()\n",
    "y_pos = np.ones(len(X_pos))\n",
    "\n",
    "X_neg = df_clean.copy()\n",
    "X_neg[num_cols] = -X_neg[num_cols]\n",
    "y_neg = np.zeros(len(X_neg))\n",
    "\n",
    "X = pd.concat([X_pos, X_neg], ignore_index=True)\n",
    "y = np.concatenate([y_pos, y_neg])\n",
    "\n",
    "# Split train/test\n",
    "X_train, X_test, y_train, y_test = train_test_split(X, y, test_size=0.2, random_state=42)\n",
    "\n",
    "# Preprocessing\n",
    "preprocessor = ColumnTransformer([\n",
    "    ('scale', StandardScaler(), num_cols),\n",
    "    ('encode', OneHotEncoder(handle_unknown='ignore'), cat_cols)\n",
    "])\n",
    "\n",
    "# Pipeline with SMOTE and Random Forest\n",
    "pipeline = ImbPipeline([\n",
    "    ('prep', preprocessor),\n",
    "    ('smote', SMOTE(random_state=42)),\n",
    "    ('rf', RandomForestClassifier(n_estimators=100, random_state=42))\n",
    "])\n",
    "\n",
    "# Train\n",
    "pipeline.fit(X_train, y_train)\n",
    "\n",
    "# Predict and evaluate\n",
    "y_pred = pipeline.predict(X_test)\n",
    "print(\"Classification Report:\")\n",
    "print(classification_report(y_test, y_pred))\n"
   ]
  },
  {
   "cell_type": "code",
   "execution_count": null,
   "id": "3f0101da-70f7-4c2a-81f4-fdd06d0fe259",
   "metadata": {},
   "outputs": [],
   "source": []
  },
  {
   "cell_type": "code",
   "execution_count": null,
   "id": "b1d16bab-b727-4589-ac55-3d5e0927c34c",
   "metadata": {},
   "outputs": [],
   "source": []
  }
 ],
 "metadata": {
  "kernelspec": {
   "display_name": "Python [conda env:base] *",
   "language": "python",
   "name": "conda-base-py"
  },
  "language_info": {
   "codemirror_mode": {
    "name": "ipython",
    "version": 3
   },
   "file_extension": ".py",
   "mimetype": "text/x-python",
   "name": "python",
   "nbconvert_exporter": "python",
   "pygments_lexer": "ipython3",
   "version": "3.12.7"
  }
 },
 "nbformat": 4,
 "nbformat_minor": 5
}
