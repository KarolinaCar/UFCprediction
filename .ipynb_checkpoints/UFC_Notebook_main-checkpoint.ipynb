{
 "cells": [
  {
   "metadata": {},
   "cell_type": "markdown",
   "source": "Hi all, we can use this notebook to scrape, wrangle the data and create the models (test/training)",
   "id": "44117fab29c4e4ad"
  },
  {
   "metadata": {},
   "cell_type": "markdown",
   "source": "",
   "id": "e916137f152d0126"
  }
 ],
 "metadata": {
  "kernelspec": {
   "display_name": "Python 3",
   "language": "python",
   "name": "python3"
  },
  "language_info": {
   "codemirror_mode": {
    "name": "ipython",
    "version": 2
   },
   "file_extension": ".py",
   "mimetype": "text/x-python",
   "name": "python",
   "nbconvert_exporter": "python",
   "pygments_lexer": "ipython2",
   "version": "2.7.6"
  }
 },
 "nbformat": 4,
 "nbformat_minor": 5
}
