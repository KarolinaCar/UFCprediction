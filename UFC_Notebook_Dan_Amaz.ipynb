{
 "cells": [
  {
   "cell_type": "code",
   "execution_count": null,
   "id": "22517f0e-57a5-4a73-b2b4-24b92845025c",
   "metadata": {},
   "outputs": [],
   "source": [
    "import pandas as pd\n",
    "import numpy as np\n",
    "\n",
    "from sklearn.model_selection import cross_val_predict\n",
    "from sklearn.preprocessing import StandardScaler, OneHotEncoder\n",
    "from sklearn.compose import ColumnTransformer\n",
    "from sklearn.metrics import classification_report, f1_score\n",
    "\n",
    "from imblearn.pipeline import Pipeline\n",
    "from imblearn.over_sampling import SMOTE\n",
    "\n",
    "from sklearn.naive_bayes import GaussianNB\n",
    "from sklearn.neighbors import KNeighborsClassifier\n",
    "from sklearn.ensemble import RandomForestClassifier\n",
    "from sklearn.linear_model import LogisticRegression\n",
    "\n",
    "import matplotlib.pyplot as plt"
   ]
  },
  {
   "cell_type": "code",
   "execution_count": null,
   "id": "78a6d3f0-1c04-42d0-98c1-75922630ed15",
   "metadata": {},
   "outputs": [],
   "source": [
    "data = pd.read_csv('df_all_fights.csv')\n",
    "data.columns = data.columns.str.strip()\n",
    "\n",
    "num_cols = [\n",
    "    'strike_accuracy_diff',\n",
    "    'total_strike_accuracy_diff',\n",
    "    'knockdowns_diff',\n",
    "    'takedown_accuracy_diff',\n",
    "    'takedowns_diff',\n",
    "    'submission_attempts_diff'\n",
    "]\n",
    "cat_cols = ['weight_class', 'method']\n",
    "\n",
    "data_filtered = data[num_cols + cat_cols].dropna()\n",
    "\n",
    "X1 = data_filtered.copy()\n",
    "y1 = np.ones(len(X1))\n",
    "\n",
    "X0 = data_filtered.copy()\n",
    "X0[num_cols] = -X0[num_cols]\n",
    "y0 = np.zeros(len(X0))\n",
    "\n",
    "X_all = pd.concat([X1, X0], axis=0).reset_index(drop=True)\n",
    "y_all = np.concatenate([y1, y0])\n"
   ]
  },
  {
   "cell_type": "code",
   "execution_count": null,
   "id": "d36c406d-ba41-46f4-ae13-98b2a21838df",
   "metadata": {},
   "outputs": [],
   "source": [
    "preprocess = ColumnTransformer([\n",
    "    ('scale', StandardScaler(), num_cols),\n",
    "    ('onehot', OneHotEncoder(handle_unknown='ignore'), cat_cols)\n",
    "])\n",
    "\n",
    "models_to_test = {\n",
    "    'NB': GaussianNB(),\n",
    "    'KNN': KNeighborsClassifier(n_neighbors=5),\n",
    "    'RF': RandomForestClassifier(n_estimators=100, random_state=42),\n",
    "    'LR': LogisticRegression(max_iter=1000, random_state=42)\n",
    "}"
   ]
  },
  {
   "cell_type": "code",
   "execution_count": null,
   "id": "3cab28cc-3fcd-495c-acb4-2930cb8d560c",
   "metadata": {},
   "outputs": [],
   "source": [
    "plt.figure(figsize=(8, 5))\n",
    "bars = plt.bar(model_scores.keys(), model_scores.values())\n",
    "plt.ylim(0, 1)\n",
    "plt.title(\"F1 Scores for Each Model\")\n",
    "plt.ylabel(\"F1 Score\")\n",
    "\n",
    "for bar in bars:\n",
    "    yval = bar.get_height()\n",
    "    plt.text(bar.get_x() + bar.get_width()/2, yval + 0.02, f\"{yval:.2f}\", ha='center')\n",
    "\n",
    "plt.tight_layout()\n",
    "plt.show()\n"
   ]
  },
  {
   "cell_type": "code",
   "execution_count": null,
   "id": "0dbf2a40-ed66-4232-8d7c-f34c9214ca0f",
   "metadata": {},
   "outputs": [],
   "source": [
    "import pandas as pd\n",
    "import numpy as np\n",
    "\n",
    "from sklearn.model_selection import cross_val_predict\n",
    "from sklearn.preprocessing import StandardScaler, OneHotEncoder\n",
    "from sklearn.compose import ColumnTransformer\n",
    "from sklearn.pipeline import Pipeline\n",
    "from sklearn.ensemble import RandomForestClassifier\n",
    "from sklearn.calibration import CalibratedClassifierCV, calibration_curve\n",
    "from sklearn.metrics import classification_report, brier_score_loss\n",
    "import matplotlib.pyplot as plt\n"
   ]
  },
  {
   "cell_type": "code",
   "execution_count": null,
   "id": "55eadc69-9a14-4bd6-80f1-06400c832858",
   "metadata": {},
   "outputs": [],
   "source": [
    "df = pd.read_csv('df_all_fights.csv')\n",
    "df.columns = df.columns.str.strip()\n",
    "\n",
    "num_cols = [\n",
    "    'strike_accuracy_diff',\n",
    "    'total_strike_accuracy_diff',\n",
    "    'knockdowns_diff',\n",
    "    'takedown_accuracy_diff',\n",
    "    'takedowns_diff',\n",
    "    'submission_attempts_diff'\n",
    "]\n",
    "\n",
    "cat_cols = ['weight_class', 'method']\n",
    "\n",
    "base_feats = df[num_cols + cat_cols].dropna()\n",
    "\n",
    "y_win = np.ones(len(base_feats), dtype=int)\n",
    "\n",
    "flipped_feats = base_feats.copy()\n",
    "flipped_feats[num_cols] = -flipped_feats[num_cols]\n",
    "\n",
    "y_lose = np.zeros(len(flipped_feats), dtype=int)\n",
    "\n",
    "X_total = pd.concat([base_feats, flipped_feats], ignore_index=True)\n",
    "y_total = np.concatenate([y_win, y_lose])"
   ]
  },
  {
   "cell_type": "code",
   "execution_count": null,
   "id": "fddb8dab-254a-4166-83c9-ac8f18d5254e",
   "metadata": {},
   "outputs": [],
   "source": [
    "feat_transform = ColumnTransformer([\n",
    "    ('std', StandardScaler(), num_cols),\n",
    "    ('onehot', OneHotEncoder(handle_unknown='ignore'), cat_cols)\n",
    "])\n",
    "\n",
    "pipe_rf = Pipeline([\n",
    "    ('xform', feat_transform),\n",
    "    ('rf', RandomForestClassifier(n_estimators=100, random_state=42))\n",
    "])\n",
    "\n",
    "cal_rf = CalibratedClassifierCV(estimator=pipe_rf, method='sigmoid', cv=5)"
   ]
  },
  {
   "cell_type": "code",
   "execution_count": null,
   "id": "3ddc18e6-3661-4741-93ae-eb8fccfedf14",
   "metadata": {},
   "outputs": [],
   "source": [
    "prob_preds = cross_val_predict(cal_rf, X_total, y_total, cv=5, method='predict_proba')[:, 1]\n",
    "final_preds = (prob_preds >= 0.5).astype(int)\n",
    "\n",
    "print(\"== Random Forest with Calibration ==\")\n",
    "print(classification_report(y_total, final_preds))\n",
    "print(\"Brier Score:\", brier_score_loss(y_total, prob_preds))\n"
   ]
  },
  {
   "cell_type": "code",
   "execution_count": null,
   "id": "69d7890b-7fda-4800-93d5-9ee00ad6b5ad",
   "metadata": {},
   "outputs": [],
   "source": [
    "cal_y, cal_x = calibration_curve(y_total, prob_preds, n_bins=10)\n",
    "\n",
    "plt.figure(figsize=(6, 6))\n",
    "plt.plot(cal_x, cal_y, 'o-', label='RF Calibrated')\n",
    "plt.plot([0, 1], [0, 1], '--', color='gray', label='Ideal')\n",
    "plt.title(\"Calibrated Probability Curve\")\n",
    "plt.xlabel(\"Predicted Win Probability\")\n",
    "plt.ylabel(\"True Win Rate\")\n",
    "plt.legend()\n",
    "plt.grid(True)\n",
    "plt.tight_layout()\n",
    "plt.show()"
   ]
  },
  {
   "cell_type": "code",
   "execution_count": null,
   "id": "72421d6d-b064-4dc7-bc66-77cdc418f98f",
   "metadata": {},
   "outputs": [],
   "source": []
  },
  {
   "cell_type": "code",
   "execution_count": null,
   "id": "8cf9ce1d-389f-4828-b30b-b726ef1c4da3",
   "metadata": {},
   "outputs": [],
   "source": []
  },
  {
   "cell_type": "code",
   "execution_count": null,
   "id": "3f230fbf-ca52-4c70-bc2e-603fbe44465f",
   "metadata": {},
   "outputs": [],
   "source": []
  },
  {
   "cell_type": "code",
   "execution_count": null,
   "id": "e5074c4d-ff96-48e8-bc6f-c696bee905e7",
   "metadata": {},
   "outputs": [],
   "source": []
  },
  {
   "cell_type": "code",
   "execution_count": null,
   "id": "a1ab063d-6119-4f8c-a55e-5a754041f862",
   "metadata": {},
   "outputs": [],
   "source": []
  },
  {
   "cell_type": "code",
   "execution_count": null,
   "id": "535bfefb-5d5d-489b-acad-00b179eec034",
   "metadata": {},
   "outputs": [],
   "source": []
  },
  {
   "cell_type": "code",
   "execution_count": null,
   "id": "2e01a92d-b657-4201-a06d-367bbcc2ef9f",
   "metadata": {},
   "outputs": [],
   "source": []
  }
 ],
 "metadata": {
  "kernelspec": {
   "display_name": "Python [conda env:base] *",
   "language": "python",
   "name": "conda-base-py"
  },
  "language_info": {
   "codemirror_mode": {
    "name": "ipython",
    "version": 3
   },
   "file_extension": ".py",
   "mimetype": "text/x-python",
   "name": "python",
   "nbconvert_exporter": "python",
   "pygments_lexer": "ipython3",
   "version": "3.12.7"
  }
 },
 "nbformat": 4,
 "nbformat_minor": 5
}
