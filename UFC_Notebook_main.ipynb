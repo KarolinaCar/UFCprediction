{
 "cells": [
  {
   "metadata": {},
   "cell_type": "markdown",
   "source": [
    "*Assignment 3 297.201*\n",
    "\n"
   ],
   "id": "44117fab29c4e4ad"
  },
  {
   "metadata": {},
   "cell_type": "markdown",
   "source": [
    "Group 11\n",
    "- Amaz Salman 24001042\n",
    "- Daniel Soung-Yun Kim 24016358\n",
    "- Forest Bennett 23010240\n",
    "- Karolina Cardenas Rios 20014550"
   ],
   "id": "325112296b729f5e"
  },
  {
   "metadata": {
    "ExecuteTime": {
     "end_time": "2025-05-19T10:16:39.192795Z",
     "start_time": "2025-05-19T10:16:39.109953Z"
    }
   },
   "cell_type": "code",
   "source": [
    "from unittest.mock import inplace\n",
    "\n",
    "from IPython.display import display, HTML\n",
    "from docutils.nodes import abbreviation\n",
    "from werkzeug.routing.rules import Weighting\n",
    "\n",
    "display(HTML(\"<style>.container { width:100% !important; }</style>\"))"
   ],
   "id": "c672cd59465d5cef",
   "outputs": [
    {
     "data": {
      "text/plain": [
       "<IPython.core.display.HTML object>"
      ],
      "text/html": [
       "<style>.container { width:100% !important; }</style>"
      ]
     },
     "metadata": {},
     "output_type": "display_data"
    }
   ],
   "execution_count": 1
  },
  {
   "metadata": {
    "ExecuteTime": {
     "end_time": "2025-05-19T10:16:40.011877Z",
     "start_time": "2025-05-19T10:16:39.200855Z"
    }
   },
   "cell_type": "code",
   "source": [
    "import requests                 # How Python gets the webpages\n",
    "from bs4 import BeautifulSoup   # Creates structured, searchable object\n",
    "import numpy as np\n",
    "import pandas as pd\n",
    "import matplotlib.pyplot as plt\n",
    "import json\n",
    "from datetime import datetime"
   ],
   "id": "8f311c51ad256f2b",
   "outputs": [],
   "execution_count": 2
  },
  {
   "metadata": {
    "ExecuteTime": {
     "end_time": "2025-05-19T10:16:41.092562Z",
     "start_time": "2025-05-19T10:16:40.549777Z"
    }
   },
   "cell_type": "code",
   "source": [
    "import statsmodels.formula.api as smf\n",
    "from sklearn.model_selection import train_test_split\n",
    "from sklearn.preprocessing import StandardScaler\n",
    "from sklearn.metrics import accuracy_score, confusion_matrix\n",
    "from sklearn import neighbors\n",
    "from sklearn.neighbors import KNeighborsClassifier\n",
    "import seaborn as sns\n",
    "from sklearn.metrics import mean_squared_error\n",
    "from sklearn.metrics import r2_score\n",
    "from sklearn import metrics\n",
    "from sklearn.neighbors import KNeighborsRegressor\n",
    "from sklearn.model_selection import cross_val_score\n"
   ],
   "id": "66cd230212eb1e6d",
   "outputs": [],
   "execution_count": 3
  },
  {
   "metadata": {
    "ExecuteTime": {
     "end_time": "2025-05-19T10:16:41.112633Z",
     "start_time": "2025-05-19T10:16:41.103396Z"
    }
   },
   "cell_type": "code",
   "source": [
    "from pylab import rcParams\n",
    "\n",
    "rcParams['figure.dpi'] = 150\n",
    "rcParams['lines.linewidth'] = 1.2\n",
    "rcParams['axes.facecolor'] = 'white'\n",
    "rcParams['patch.edgecolor'] = 'white'\n",
    "rcParams['font.family'] = 'DejaVu Sans'\n",
    "rcParams['figure.figsize'] = 5,3\n",
    "rcParams['font.size'] = 10"
   ],
   "id": "98508c339568f8b2",
   "outputs": [],
   "execution_count": 4
  },
  {
   "metadata": {
    "ExecuteTime": {
     "end_time": "2025-05-19T10:16:41.205710Z",
     "start_time": "2025-05-19T10:16:41.200707Z"
    }
   },
   "cell_type": "code",
   "source": [
    "rcParams['axes.labelsize'] = 'medium'\n",
    "rcParams['xtick.labelsize'] = 8\n",
    "rcParams['ytick.labelsize'] = 8"
   ],
   "id": "d031bd0a15986378",
   "outputs": [],
   "execution_count": 5
  }
 ],
 "metadata": {
  "kernelspec": {
   "display_name": "Python 3",
   "language": "python",
   "name": "python3"
  },
  "language_info": {
   "codemirror_mode": {
    "name": "ipython",
    "version": 2
   },
   "file_extension": ".py",
   "mimetype": "text/x-python",
   "name": "python",
   "nbconvert_exporter": "python",
   "pygments_lexer": "ipython2",
   "version": "2.7.6"
  }
 },
 "nbformat": 4,
 "nbformat_minor": 5
}
